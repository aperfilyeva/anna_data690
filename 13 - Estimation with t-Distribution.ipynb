{
  "nbformat": 4,
  "nbformat_minor": 0,
  "metadata": {
    "kernelspec": {
      "display_name": "Python 3",
      "language": "python",
      "name": "python3"
    },
    "language_info": {
      "codemirror_mode": {
        "name": "ipython",
        "version": 3
      },
      "file_extension": ".py",
      "mimetype": "text/x-python",
      "name": "python",
      "nbconvert_exporter": "python",
      "pygments_lexer": "ipython3",
      "version": "3.7.4"
    },
    "colab": {
      "name": "13 - Estimation with t-Distribution.ipynb",
      "provenance": [],
      "include_colab_link": true
    }
  },
  "cells": [
    {
      "cell_type": "markdown",
      "metadata": {
        "id": "view-in-github",
        "colab_type": "text"
      },
      "source": [
        "<a href=\"https://colab.research.google.com/github/aperfilyeva/anna_data690/blob/main/13%20-%20Estimation%20with%20t-Distribution.ipynb\" target=\"_parent\"><img src=\"https://colab.research.google.com/assets/colab-badge.svg\" alt=\"Open In Colab\"/></a>"
      ]
    },
    {
      "cell_type": "markdown",
      "metadata": {
        "id": "nQoNKsf9_b2O"
      },
      "source": [
        "## 13 - Estimation with t-distribution\n",
        "\n",
        "### z-Distribution vs t-Distribution\n",
        "\n",
        "z-distribution - when population standard deviation $\\sigma$ is known (we have more confidence)\n",
        "\n",
        "t-distribution - when population standard deviation is unknown (we have less confidence)\n",
        "\n",
        "![image](https://github.com/wcj365/python-stats-dataviz/blob/master/images/z-and-t-distribution.gif?raw=1)\n",
        "\n",
        "### Three Concepts of Statistical Inferece:\n",
        "#### 1. Point Estimate\n",
        "\n",
        "We use a sample statistics to estimate the population parameters:\n",
        "\n",
        "Sample Mean $\\bar{X}=\\dfrac{1}{n}\\sum\\limits_{i=1}^n X_i$\n",
        "\n",
        "Sample Variance $S^2=\\dfrac{1}{n-1}\\sum\\limits_{i=1}^n (X_i-\\bar{X})^2$\n",
        "\n",
        "Sample Standard Deviation $S=\\sqrt{\\dfrac{1}{n-1}\\sum\\limits_{i=1}^n (X_i-\\bar{X})^2}$\n",
        "\n",
        "#### 2.Interval Estimate/Confidence Interval\n",
        "\n",
        "How confident we are about our point estimate?\n",
        "\n",
        "Confidence Interval = sample statistics $\\pm$ margin of error\n",
        "\n",
        "Margin of Error = Some multiplier M * Standard Error \n",
        "\n",
        "Confidence Interval ($\\sigma$ known) = $\\bar{x}\\space\\pm\\space t_{\\alpha/2}\\left(\\dfrac{\\sigma}{\\sqrt{n}}\\right)$\n",
        "\n",
        "Confidence Interval ($\\sigma$ unknown) = $\\bar{x}\\space\\pm\\space t_{\\alpha/2}\\left(\\dfrac{S}{\\sqrt{n}}\\right)$\n",
        "\n",
        "Note:\n",
        "\n",
        "- How confidence are you about your confidence? No 100%.\n",
        "\n",
        "- if the population standard deviation is not known and we must use the smaple standard deviation to approximate the population standard deviation.\n"
      ]
    },
    {
      "cell_type": "code",
      "metadata": {
        "id": "0lkQaeLm_b2P"
      },
      "source": [
        "import math\n",
        "import scipy.stats as stats\n",
        "import numpy as np"
      ],
      "execution_count": 1,
      "outputs": []
    },
    {
      "cell_type": "markdown",
      "metadata": {
        "id": "EpR7wgta_b2T"
      },
      "source": [
        "### Point and interval estimate example\n",
        "\n",
        "A random sample of **16** Americans yielded the following data on the number of pounds of beef consumed per year:\n",
        "\n",
        "**118    115    125    110    112    130    117    112\n",
        "115    120    113    118    119    122    123    126**\n",
        "\n",
        "What is the average number of pounds of beef consumed each year per person in the United States?"
      ]
    },
    {
      "cell_type": "markdown",
      "metadata": {
        "id": "PkBVZq7s_b2U"
      },
      "source": [
        "### Step 1. Calculate Sample Size and Sample Mean"
      ]
    },
    {
      "cell_type": "code",
      "metadata": {
        "id": "kH44mBW8_b2V",
        "colab": {
          "base_uri": "https://localhost:8080/"
        },
        "outputId": "c7525b74-edb4-4060-b6d3-3cc6c3faa0c8"
      },
      "source": [
        "sample_data = [118, 115, 125, 110, 112, 130, 117, 112, 115, 120, 113, 118, 119, 122, 123, 126]\n",
        "sample_size = len(sample_data)\n",
        "print(\"Sample size =\", sample_size)"
      ],
      "execution_count": 2,
      "outputs": [
        {
          "output_type": "stream",
          "name": "stdout",
          "text": [
            "Sample size = 16\n"
          ]
        }
      ]
    },
    {
      "cell_type": "code",
      "metadata": {
        "id": "_yIK2C_A_b2b",
        "colab": {
          "base_uri": "https://localhost:8080/"
        },
        "outputId": "8f4bcadb-f027-432b-eae8-27a23c848edd"
      },
      "source": [
        "sample_mean = round(np.mean(sample_data),2)\n",
        "print(\"Sample mean =\", sample_mean)"
      ],
      "execution_count": 3,
      "outputs": [
        {
          "output_type": "stream",
          "name": "stdout",
          "text": [
            "Sample mean = 118.44\n"
          ]
        }
      ]
    },
    {
      "cell_type": "markdown",
      "metadata": {
        "id": "lPmyoZ8r_b2e"
      },
      "source": [
        "So, our point estimate for the annual beef consumption per capita in US is **118.44 pounds**. That is an easy part. \n",
        "\n",
        "However, we don't know how good our point estimate is and how confident we are about the point estimate.\n",
        "\n",
        "So, let's perform **interval estimate** so that we can provide a more \"statistically correct\" estimate."
      ]
    },
    {
      "cell_type": "markdown",
      "metadata": {
        "id": "oBHRQ08v_b2e"
      },
      "source": [
        "### Step 2 - Calculate the Sample Standard Deviation & Sample Error\n",
        "\n",
        "Sample Standard Deviation $S=\\sqrt{\\dfrac{1}{n-1}\\sum\\limits_{i=1}^n (X_i-\\bar{X})^2}$\n",
        "\n",
        "Sample Error = $\\dfrac{S}{\\sqrt{n}}$\n",
        "\n",
        "Note: \n",
        "\n",
        "Pay attention to the **\"n - 1\"** in the Sample Standard Deviation formula. For population, it would have been just\"n\".\n",
        "\n",
        "The default **Delta Degree of Freedom (DDOF)** is 0 which is applicable to populate data. \n",
        "\n",
        "For sample data, make sure to specify **ddof=1**.\n"
      ]
    },
    {
      "cell_type": "code",
      "metadata": {
        "id": "MrFVzRXe_b2f",
        "colab": {
          "base_uri": "https://localhost:8080/"
        },
        "outputId": "80ed6ffa-a934-4235-d789-0c2044ddf3b1"
      },
      "source": [
        "sample_std = np.std(sample_data, ddof=1) \n",
        "sample_std = round(sample_std, 2)         \n",
        "print(\"Sample Standard Deviation =\", sample_std)"
      ],
      "execution_count": 4,
      "outputs": [
        {
          "output_type": "stream",
          "name": "stdout",
          "text": [
            "Sample Standard Deviation = 5.66\n"
          ]
        }
      ]
    },
    {
      "cell_type": "code",
      "metadata": {
        "id": "P_uQzlUE_b2i",
        "colab": {
          "base_uri": "https://localhost:8080/"
        },
        "outputId": "accab39a-b817-4bb7-d456-06576dc7c37f"
      },
      "source": [
        "# Calculate Sample Standard Error\n",
        "\n",
        "sample_std_err = sample_std / math.sqrt(sample_size)\n",
        "sample_std_err = round(sample_std_err,2)\n",
        "print(\"Sample Standard Error is\", sample_std_err)"
      ],
      "execution_count": 5,
      "outputs": [
        {
          "output_type": "stream",
          "name": "stdout",
          "text": [
            "Sample Standard Error is 1.42\n"
          ]
        }
      ]
    },
    {
      "cell_type": "markdown",
      "metadata": {
        "id": "M2jmwXFe_b2m"
      },
      "source": [
        "### Step 3 - Calculate t Critical Value using t-Distribution\n",
        "\n",
        "At 95% confidence level, the t value is 2.13 according to the  Student T Distribution Table:\n",
        "\n",
        "$\\alpha$ = 1 - Confidence Level = 1 - 95% = 0.05\n",
        "\n",
        "$\\dfrac{\\alpha}{2}$ = 0.025\n",
        "\n",
        "n (sample size) = 16\n",
        "\n",
        "df (degree of freedom) = n - 1 = 16 - 1 = 15\n",
        "\n",
        "$t_{0.025,15}=2.13$\n",
        "\n",
        "![Student T Table](https://github.com/wcj365/python-stats-dataviz/blob/master/images/StudentTTable.png?raw=1)\n",
        "\n"
      ]
    },
    {
      "cell_type": "code",
      "metadata": {
        "id": "tE7Qz6zn_b2m",
        "colab": {
          "base_uri": "https://localhost:8080/"
        },
        "outputId": "c3fe6c00-ec0c-4c8d-8489-8be15567845c"
      },
      "source": [
        "# Instead of looking it up in the t-table, \n",
        "# you use Python scipy.stats t-distribution.\n",
        "\n",
        "t_value = stats.t.ppf(0.975, 15)\n",
        "print(\"t critical value or t statistics = \", round(t_value,2))"
      ],
      "execution_count": 6,
      "outputs": [
        {
          "output_type": "stream",
          "name": "stdout",
          "text": [
            "t critical value or t statistics =  2.13\n"
          ]
        }
      ]
    },
    {
      "cell_type": "markdown",
      "metadata": {
        "id": "bOM5StXN_b2r"
      },
      "source": [
        "### Step 4 - Calculate Margin of Error\n",
        " Margin of Error = t-statistics * Sample Standard Error = $t_{\\alpha/2,n-1}\\left(\\dfrac{s}{\\sqrt{n}}\\right)$"
      ]
    },
    {
      "cell_type": "code",
      "metadata": {
        "id": "s0SGfqAG_b2r",
        "colab": {
          "base_uri": "https://localhost:8080/"
        },
        "outputId": "9c40828f-3d6e-4cc8-bde8-7b36db4e8f54"
      },
      "source": [
        "margin_of_error = round(t_value * sample_std_err,2) \n",
        "print(\"Margin of Error =\", margin_of_error)"
      ],
      "execution_count": 7,
      "outputs": [
        {
          "output_type": "stream",
          "name": "stdout",
          "text": [
            "Margin of Error = 3.03\n"
          ]
        }
      ]
    },
    {
      "cell_type": "markdown",
      "metadata": {
        "id": "dDLjLxBM_b2u"
      },
      "source": [
        "### Step 5 - Calculate Lower and Upper Limit of the Confidence Interval\n",
        "- Lower Limit = Sample Mean - Margin of Error\n",
        "- Upper Limit = Sample Mean + Margin of Error"
      ]
    },
    {
      "cell_type": "code",
      "metadata": {
        "id": "w6WPXpKO_b2u",
        "colab": {
          "base_uri": "https://localhost:8080/"
        },
        "outputId": "14630e64-3785-447a-d72d-ef6c17d3cb75"
      },
      "source": [
        "lower_limit = sample_mean - margin_of_error\n",
        "print (\"Lower Limit = \", lower_limit)"
      ],
      "execution_count": 8,
      "outputs": [
        {
          "output_type": "stream",
          "name": "stdout",
          "text": [
            "Lower Limit =  115.41\n"
          ]
        }
      ]
    },
    {
      "cell_type": "code",
      "metadata": {
        "id": "bBQRY3DO_b2x",
        "colab": {
          "base_uri": "https://localhost:8080/"
        },
        "outputId": "1f53006b-8bd3-48f9-ba8a-50eda15fe28c"
      },
      "source": [
        "upper_limit = sample_mean + margin_of_error\n",
        "print (\"Upper Limit = \", upper_limit)"
      ],
      "execution_count": 9,
      "outputs": [
        {
          "output_type": "stream",
          "name": "stdout",
          "text": [
            "Upper Limit =  121.47\n"
          ]
        }
      ]
    },
    {
      "cell_type": "markdown",
      "metadata": {
        "id": "Yz8o502o_b22"
      },
      "source": [
        "### Step 6 - Now You have the Confidence Interval\n",
        "Confidence Interval ($\\sigma$ unknown) = $\\bar{x}\\space\\pm\\space t_{\\alpha/2}\\left(\\dfrac{S}{\\sqrt{n}}\\right)$"
      ]
    },
    {
      "cell_type": "code",
      "metadata": {
        "id": "Sp-0SXaU_b23",
        "colab": {
          "base_uri": "https://localhost:8080/"
        },
        "outputId": "4f4f715b-a408-4eed-baf9-0a0fba42ce26"
      },
      "source": [
        "print(\"The 95% Confidence Interval Estimate of American Annual Beef Consumption = (\", lower_limit, \",\", upper_limit, \")\")"
      ],
      "execution_count": 10,
      "outputs": [
        {
          "output_type": "stream",
          "name": "stdout",
          "text": [
            "The 95% Confidence Interval Estimate of American Annual Beef Consumption = ( 115.41 , 121.47 )\n"
          ]
        }
      ]
    },
    {
      "cell_type": "markdown",
      "metadata": {
        "id": "p6NdwAqQ_b28"
      },
      "source": [
        "### The End"
      ]
    },
    {
      "cell_type": "code",
      "source": [
        ""
      ],
      "metadata": {
        "id": "t3JcjE2QL0au"
      },
      "execution_count": null,
      "outputs": []
    }
  ]
}